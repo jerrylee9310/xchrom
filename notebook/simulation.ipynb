{
 "cells": [
  {
   "cell_type": "code",
   "execution_count": null,
   "metadata": {},
   "outputs": [],
   "source": []
  },
  {
   "cell_type": "code",
   "execution_count": 1,
   "metadata": {},
   "outputs": [],
   "source": [
    "import numpy as np\n",
    "import pandas as pd\n",
    "from tqdm import tqdm\n",
    "\n",
    "import sys\n",
    "sys.path.append(\"../\")\n",
    "\n",
    "import src.famgen.gen_geno as fgg\n",
    "import src.famgen.gen_pheno as fgp\n",
    "import src.xchrom.frreg as frreg\n",
    "import src.xchrom.optimiz as optimiz"
   ]
  },
  {
   "attachments": {},
   "cell_type": "markdown",
   "metadata": {},
   "source": [
    "# 1. Make simulation phenotype"
   ]
  },
  {
   "cell_type": "code",
   "execution_count": 81,
   "metadata": {},
   "outputs": [],
   "source": [
    "# GENOTYPE-related Parameters\n",
    "num_sample = 1000\n",
    "num_variant = 10\n",
    "prop_commom_rare = -1 # only common variant (0 for only rare)\n",
    "\n",
    "# PHENOTYPE related parameters\n",
    "dc_type = \"FDC\"\n",
    "beta = {\"autosome\" : np.random.normal(0, 1, size=num_variant),\n",
    "        \"chrX\" : np.random.normal(0, 1, size=num_variant)}\n",
    "hsqs = {\n",
    "    \"autosome\" : 0.5,\n",
    "    \"chrX\" : 0.02,\n",
    "    \"fam\" : 0.05,\n",
    "    \"po\" : 0.05,\n",
    "    \"sib\" : 0.1,\n",
    "}\n",
    "\n",
    "# OTHER parameters\n",
    "rel_list = [\"father_son\", \"mother_son\", \"father_daughter\", \"mother_daughter\", \n",
    "            \"son_son\", \"son_daughter\", \"daughter_daughter\"]\n",
    "pos = [\"father_son\", \"mother_son\", \"father_daughter\", \"mother_daughter\"]\n",
    "sibs = [\"son_son\", \"son_daughter\", \"daughter_daughter\"]\n",
    "males = [\"father\", \"son\", \"son1\", \"son2\"]\n",
    "females = [\"mother\", \"daughter\", \"daughter1\", \"daughter2\"]"
   ]
  },
  {
   "cell_type": "code",
   "execution_count": 82,
   "metadata": {},
   "outputs": [
    {
     "data": {
      "text/plain": [
       "FamGenoSimul(num_variant=10, prop_common_rare=-1, maf_lim_common=[0.05, 0.95], maf_lim_rare=[0.01, 0.05], num_common=10, num_rare=0)"
      ]
     },
     "execution_count": 82,
     "metadata": {},
     "output_type": "execute_result"
    }
   ],
   "source": [
    "GenGeno = fgg.FamGenoSimul(num_variant, prop_commom_rare)\n",
    "GenGeno"
   ]
  },
  {
   "cell_type": "code",
   "execution_count": 83,
   "metadata": {},
   "outputs": [],
   "source": [
    "# genotype-related add-hoc functions\n",
    "def make_parents_haps(class_FamGenoSimul, num_sample):\n",
    "    \"\"\"Generate parent haplotypes.\n",
    "\n",
    "    This function generates the haplotypes for the father and mother. The haplotypes\n",
    "    are stored in a dictionary with the keys \"father\" and \"mother\". Each parent has\n",
    "    two keys, \"autosome\" and \"chrX\".\n",
    "\n",
    "    Args:\n",
    "        class_FamGenoSimul (class): The FamGenoSimul class instance.\n",
    "        num_sample (int): The number of samples to generate.\n",
    "\n",
    "    Returns:\n",
    "        dict: A dictionary of the generated parent haplotypes.\n",
    "    \"\"\"\n",
    "    dict_parents = {\n",
    "        \"father\" : {\n",
    "            \"autosome\" : None,\n",
    "            \"chrX\" : None},\n",
    "        \"mother\" : {\n",
    "            \"autosome\" : None,\n",
    "            \"chrX\" : None}\n",
    "    }\n",
    "\n",
    "    ## MAKE PARENT's HAPS\n",
    "    for parent in [\"father\", \"mother\"]:\n",
    "        for chr_type in [\"autosome\", \"chrX\"]:\n",
    "            if (chr_type == \"chrX\") & (parent == \"father\"):\n",
    "                dict_parents[parent][chr_type], _ = class_FamGenoSimul.generate_parent_haplotype(num_sample=num_sample, chr_type=\"haploid\")\n",
    "            else:\n",
    "                dict_parents[parent][chr_type], _ = class_FamGenoSimul.generate_parent_haplotype(num_sample=num_sample, chr_type=\"diploid\")\n",
    "    \n",
    "    return dict_parents\n",
    "\n",
    "def make_offspring_haps(class_FamGenoSimul, dict_parents, off_type):\n",
    "    # off_type = \"son\", \"daughter\"\n",
    "    dict_off = {\n",
    "        \"autosome\" : None,\n",
    "        \"chrX\" : None\n",
    "    }\n",
    "    for chr_type in [\"autosome\", \"chrX\"]:\n",
    "        dict_off[chr_type] = class_FamGenoSimul.make_offspring_haplotype(\n",
    "            haps_mother = dict_parents[\"mother\"][chr_type],\n",
    "            haps_father = dict_parents[\"father\"][chr_type],\n",
    "            off_type = off_type,\n",
    "            chr_type=chr_type\n",
    "        )\n",
    "    return dict_off\n",
    "\n",
    "def make_family_geno(class_FamGenoSimul, num_sample, rel):\n",
    "    \"\"\"\n",
    "    Generate offspring's genotype for the specified relationship type.\n",
    "    \n",
    "    Parameters:\n",
    "    class_FamGenoSimul (class): Class for family simulation.\n",
    "    num_sample (int): The number of samples to be simulated.\n",
    "    rel (str): Relationship type. \n",
    "        Options: father_son, mother_son, father_daughter, mother_daughter, son_son, son_daughter, daughter_daughter\n",
    "        \n",
    "    Returns:\n",
    "    dict: Dictionary with offspring's genotype for each chromosome type.\n",
    "    \n",
    "    \"\"\"\n",
    "    parents = [\"father\", \"mother\"]\n",
    "    offs = [\"son\", \"daughter\"]\n",
    "    pos = [\"father_son\", \"mother_son\", \"father_daughter\", \"mother_daughter\"]\n",
    "    sibs = [\"son_son\", \"son_daughter\", \"daughter_daughter\"]\n",
    "    \n",
    "    dict_parents = make_parents_haps(class_FamGenoSimul, num_sample)\n",
    "    \n",
    "    ## MAKE OFFSPRING's HAPS ##\n",
    "    if rel in [\"father_son\", \"mother_son\"]:\n",
    "        dict_off = make_offspring_haps(class_FamGenoSimul, dict_parents, off_type=\"son\")\n",
    "        \n",
    "    elif rel in [\"father_daughter\", \"mother_daughter\"]:\n",
    "        dict_off = make_offspring_haps(class_FamGenoSimul, dict_parents, off_type=\"daughter\")\n",
    "\n",
    "    elif rel == \"son_son\":\n",
    "        dict_off1 = make_offspring_haps(class_FamGenoSimul, dict_parents, off_type=\"son\")\n",
    "        dict_off2 = make_offspring_haps(class_FamGenoSimul, dict_parents, off_type=\"son\")\n",
    "\n",
    "    elif rel == \"son_daughter\":\n",
    "        dict_off1 = make_offspring_haps(class_FamGenoSimul, dict_parents, off_type=\"son\")\n",
    "        dict_off2 = make_offspring_haps(class_FamGenoSimul, dict_parents, off_type=\"daughter\")\n",
    "\n",
    "    elif rel == \"daughter_daughter\":\n",
    "        dict_off1 = make_offspring_haps(class_FamGenoSimul, dict_parents, off_type=\"daughter\")\n",
    "        dict_off2 = make_offspring_haps(class_FamGenoSimul, dict_parents, off_type=\"daughter\")\n",
    "\n",
    "    else: \n",
    "        raise Exception(\"!!\")\n",
    "\n",
    "    # return dict_parents\n",
    "    dict_rel = {}\n",
    "    \n",
    "    if rel in pos:\n",
    "        for r in rel.split(\"_\"):\n",
    "            dict_rel[r] = {}\n",
    "            for chr_type in [\"autosome\", \"chrX\"]:\n",
    "                if r in parents:\n",
    "                    dict_rel[r][chr_type] = dict_parents[r][chr_type]\n",
    "                elif r in offs:\n",
    "                    dict_rel[r][chr_type] = dict_off[chr_type]\n",
    "    \n",
    "    elif rel in sibs:\n",
    "        for i, r in enumerate(rel.split(\"_\")):\n",
    "            r_new = r + str(i+1)\n",
    "            dict_rel[r_new] = {}\n",
    "            for chr_type in [\"autosome\", \"chrX\"]:\n",
    "                if i == 0:\n",
    "                    dict_rel[r_new][chr_type] = dict_off1[chr_type]\n",
    "                else:\n",
    "                    dict_rel[r_new][chr_type] = dict_off2[chr_type]\n",
    "            \n",
    "    return dict_rel"
   ]
  },
  {
   "cell_type": "code",
   "execution_count": 84,
   "metadata": {},
   "outputs": [],
   "source": [
    "# make simulated phenotype and relationship information\n",
    "df_phenos = pd.DataFrame(columns=[\"id\", \"pheno\"])\n",
    "id_idx = 1\n",
    "\n",
    "for r in rel_list:\n",
    "    # make genotype for given relationship pairs\n",
    "    rel_pair = make_family_geno(GenGeno, num_sample, r)\n",
    "\n",
    "    s_fam = np.random.normal(0, 1, num_sample) # familial-common shared env\n",
    "    s_relspec = np.random.normal(0, 1, num_sample) # s_po for po, s_sib for sib\n",
    "    \n",
    "    pheno_r = {}\n",
    "    comps = [\"autosome\", \"chrX\", \"fam\", \"po\"] if r in pos else [\"autosome\", \"chrX\", \"fam\", \"sib\"]\n",
    "    for ii, rr in enumerate(rel_pair.keys()):\n",
    "        pheno = np.zeros(num_sample)\n",
    "\n",
    "        haps = rel_pair[rr]\n",
    "        hsq_sum = 0\n",
    "\n",
    "        # phenotypical value of each variance component\n",
    "        for comp in comps:\n",
    "            if comp == \"autosome\":\n",
    "                pheno_comp = fgp.make_pheno(hsqs[comp], haps[comp], beta[comp])\n",
    "                \n",
    "            elif comp == \"chrX\":\n",
    "                if rr in males:\n",
    "                    pheno_comp = fgp.make_pheno(hsqs[comp], haps[comp], beta[comp])\n",
    "                else:\n",
    "                    pheno_comp = fgp.make_pheno(hsqs[comp], haps[comp], beta[comp], dc_type=dc_type)\n",
    "            \n",
    "            elif comp == \"fam\":\n",
    "                pheno_comp = fgp.set_var(hsqs[comp], s_fam)\n",
    "            \n",
    "            else:\n",
    "                pheno_comp = fgp.set_var(hsqs[comp], s_fam)\n",
    "            \n",
    "            pheno += pheno_comp\n",
    "            hsq_sum += hsqs[comp]\n",
    "        \n",
    "        # individual-specific environemntal effect\n",
    "        e = np.random.normal(0, 1, num_sample)\n",
    "        var_e = 1 - hsq_sum\n",
    "        e = fgp.set_var(var_e, e)\n",
    "        pheno += e\n",
    "\n",
    "        # make phenotype file\n",
    "        id_idx_start = id_idx\n",
    "        id_idx_end = id_idx_start + len(pheno)\n",
    "        if ii == 0:\n",
    "            id_m1 = np.arange(id_idx_start, id_idx_end)\n",
    "            id_m = id_m1\n",
    "        else:\n",
    "            id_m2 = np.arange(id_idx_start, id_idx_end)\n",
    "            id_m = id_m2\n",
    "        id_idx = id_idx_end\n",
    "        df_phenos = pd.concat([df_phenos, pd.DataFrame({\"id\": id_m,\"pheno\": pheno})], ignore_index=True)\n",
    "    \n",
    "    # make relationship file\n",
    "    df_relation = pd.DataFrame({list(rel_pair.keys())[0]: id_m1, \n",
    "                                list(rel_pair.keys())[1]: id_m2})\n",
    "    df_relation.to_csv(f\"./test_data/{r}.relation\", sep='\\t', index=False)\n",
    "\n",
    "# save phenotype\n",
    "df_phenos[[\"id\", \"id\", \"pheno\"]].to_csv(\"./test_data/simul.phen\", sep='\\t', index=False)"
   ]
  },
  {
   "attachments": {},
   "cell_type": "markdown",
   "metadata": {},
   "source": [
    "# 2. Do X-CHROM"
   ]
  },
  {
   "cell_type": "code",
   "execution_count": 85,
   "metadata": {},
   "outputs": [],
   "source": [
    "import src.xchrom.XCHROM as XCHROM\n",
    "import seaborn as sns"
   ]
  },
  {
   "cell_type": "code",
   "execution_count": 86,
   "metadata": {},
   "outputs": [],
   "source": [
    "pheno_fn = \"./test_data/simul.phen\"\n",
    "\n",
    "# Relation pair sets (fam, same-sex, sibling, ...)\n",
    "# R = [\"father_son\", \"father_daughter\", \"mother_son\", \"mother_daughter\", \"son_son\", \"son_daughter\", \"daughter_daughter\"]\n",
    "R = [\"father_son\", \"mother_daughter\", \"son_son\", \"daughter_daughter\"]\n",
    "\n",
    "rel_fn = {}\n",
    "for r in R:\n",
    "    rel_fn[r] = f\"./test_data/{r}.relation\""
   ]
  },
  {
   "cell_type": "code",
   "execution_count": 87,
   "metadata": {},
   "outputs": [],
   "source": [
    "# at once\n",
    "MODEL = XCHROM.XCHROM()\n",
    "res_optim, res_frreg = MODEL.estimate_x(rel_fn, pheno_fn, num_boots=1000)"
   ]
  },
  {
   "cell_type": "code",
   "execution_count": 88,
   "metadata": {},
   "outputs": [
    {
     "data": {
      "text/plain": [
       "<AxesSubplot:xlabel='r', ylabel='coefficient'>"
      ]
     },
     "execution_count": 88,
     "metadata": {},
     "output_type": "execute_result"
    },
    {
     "data": {
      "image/png": "[encoded data removed]",
      "text/plain": [
       "<Figure size 432x288 with 1 Axes>"
      ]
     },
     "metadata": {
      "needs_background": "light"
     },
     "output_type": "display_data"
    }
   ],
   "source": [
    "# plot FR-reg\n",
    "sns.boxplot(\n",
    "    data = res_frreg,\n",
    "    x = \"r\", y = \"coefficient\",\n",
    ")"
   ]
  },
  {
   "cell_type": "code",
   "execution_count": 89,
   "metadata": {},
   "outputs": [
    {
     "data": {
      "text/html": [
       "<div>\n",
       "<style scoped>\n",
       "    .dataframe tbody tr th:only-of-type {\n",
       "        vertical-align: middle;\n",
       "    }\n",
       "\n",
       "    .dataframe tbody tr th {\n",
       "        vertical-align: top;\n",
       "    }\n",
       "\n",
       "    .dataframe thead th {\n",
       "        text-align: right;\n",
       "    }\n",
       "</style>\n",
       "<table border=\"1\" class=\"dataframe\">\n",
       "  <thead>\n",
       "    <tr style=\"text-align: right;\">\n",
       "      <th></th>\n",
       "      <th>n_boot</th>\n",
       "      <th>a</th>\n",
       "      <th>xMale</th>\n",
       "      <th>xFemale</th>\n",
       "      <th>mPO</th>\n",
       "      <th>func_val</th>\n",
       "    </tr>\n",
       "  </thead>\n",
       "  <tbody>\n",
       "    <tr>\n",
       "      <th>0</th>\n",
       "      <td>499.5</td>\n",
       "      <td>0.964028</td>\n",
       "      <td>0.013882</td>\n",
       "      <td>0.137055</td>\n",
       "      <td>-0.104664</td>\n",
       "      <td>3.839648e-11</td>\n",
       "    </tr>\n",
       "  </tbody>\n",
       "</table>\n",
       "</div>"
      ],
      "text/plain": [
       "   n_boot         a     xMale   xFemale       mPO      func_val\n",
       "0   499.5  0.964028  0.013882  0.137055 -0.104664  3.839648e-11"
      ]
     },
     "execution_count": 89,
     "metadata": {},
     "output_type": "execute_result"
    }
   ],
   "source": [
    "pd.DataFrame(res_optim.mean()).T"
   ]
  },
  {
   "cell_type": "code",
   "execution_count": null,
   "metadata": {},
   "outputs": [],
   "source": []
  }
 ],
 "metadata": {
  "kernelspec": {
   "display_name": "base",
   "language": "python",
   "name": "python3"
  },
  "language_info": {
   "codemirror_mode": {
    "name": "ipython",
    "version": 3
   },
   "file_extension": ".py",
   "mimetype": "text/x-python",
   "name": "python",
   "nbconvert_exporter": "python",
   "pygments_lexer": "ipython3",
   "version": "3.9.13"
  },
  "orig_nbformat": 4
 },
 "nbformat": 4,
 "nbformat_minor": 2
}
