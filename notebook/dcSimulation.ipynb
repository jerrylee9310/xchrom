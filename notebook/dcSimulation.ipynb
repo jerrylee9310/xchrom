{
 "cells": [
  {
   "cell_type": "markdown",
   "metadata": {},
   "source": [
    "__`dcSimulation.ipynb`__\n",
    "\n",
    "Simulation notebooke to show why the phenotypic variance by X chromosome is differed depending on dosage compensation (twice in male on FDC, twice in female on NDC)."
   ]
  },
  {
   "cell_type": "code",
   "execution_count": null,
   "metadata": {},
   "outputs": [
    {
     "ename": "",
     "evalue": "",
     "output_type": "error",
     "traceback": [
      "\u001b[1;31mFailed to start the Kernel. \n",
      "\u001b[1;31mUnhandled error. \n",
      "\u001b[1;31mView Jupyter <a href='command:jupyter.viewOutput'>log</a> for further details."
     ]
    }
   ],
   "source": [
    "# import modules\n",
    "import numpy as np"
   ]
  },
  {
   "cell_type": "code",
   "execution_count": 3,
   "metadata": {},
   "outputs": [],
   "source": [
    "# ad-hoc function\n",
    "def std_mtx(mtx):\n",
    "    return (mtx - np.mean(mtx, axis=0)) / np.std(mtx, axis=0)"
   ]
  },
  {
   "cell_type": "markdown",
   "metadata": {},
   "source": [
    "# 1. One-SNP model"
   ]
  },
  {
   "cell_type": "code",
   "execution_count": 4,
   "metadata": {},
   "outputs": [],
   "source": [
    "# arguments\n",
    "maf = 0.3\n",
    "n_sample = 3000\n",
    "var_x = 0.1\n",
    "n_iter = 1000"
   ]
  },
  {
   "cell_type": "code",
   "execution_count": 5,
   "metadata": {},
   "outputs": [],
   "source": [
    "# haplotype\n",
    "hap_x_male = np.random.binomial(1, maf, size=n_sample)\n",
    "hap_x1_female = np.random.binomial(1, maf, size=n_sample)\n",
    "hap_x2_female = np.random.binomial(1, maf, size=n_sample)"
   ]
  },
  {
   "cell_type": "code",
   "execution_count": 6,
   "metadata": {},
   "outputs": [
    {
     "name": "stdout",
     "output_type": "stream",
     "text": [
      "Effect size of the SNP : -0.091\n"
     ]
    }
   ],
   "source": [
    "# effect size of the SNP\n",
    "effect_size = np.random.normal(loc=0.0, scale=np.sqrt(var_x))\n",
    "print(\"Effect size of the SNP : {:.3f}\".format(effect_size))"
   ]
  },
  {
   "cell_type": "code",
   "execution_count": 7,
   "metadata": {},
   "outputs": [
    {
     "name": "stdout",
     "output_type": "stream",
     "text": [
      "Expected variance by male = 0.00174\n",
      "Expected variance by female(no inactivation) = 0.00349\n",
      "Expected variance by female(random inactivation) = 0.00087\n"
     ]
    }
   ],
   "source": [
    "# Expectation\n",
    "exp_x_male = maf * (1 - maf) * effect_size**2\n",
    "exp_x_female_noInactivation = 2 * maf * (1 - maf) * effect_size**2\n",
    "exp_x_female_inactivation = 0.5 * maf * (1 - maf) * effect_size**2\n",
    "print(\"Expected variance by male = {:.5f}\".format(exp_x_male))\n",
    "print(\"Expected variance by female(no inactivation) = {:.5f}\".format(exp_x_female_noInactivation))\n",
    "print(\"Expected variance by female(random inactivation) = {:.5f}\".format(exp_x_female_inactivation))"
   ]
  },
  {
   "cell_type": "code",
   "execution_count": 8,
   "metadata": {},
   "outputs": [],
   "source": [
    "# phenotypic variance by the SNP\n",
    "\n",
    "# phenotype - male\n",
    "geno_x_male = hap_x_male\n",
    "geno_x_female = hap_x1_female + hap_x2_female\n",
    "\n",
    "# phenotype - female, no inactivation\n",
    "pheno_x_male = hap_x_male * effect_size\n",
    "pheno_x_female_noInactivation = geno_x_female * effect_size\n",
    "\n",
    "# phenotype - female, random inactivation\n",
    "n_cells = 1000\n",
    "pheno_x_female_inactivation = np.zeros_like(pheno_x_female_noInactivation)\n",
    "\n",
    "for cell in range(n_cells):\n",
    "    active_idx = np.random.binomial(1, 0.5)\n",
    "\n",
    "    if active_idx == 0:\n",
    "        pheno_x_female_inactivation += hap_x1_female * effect_size\n",
    "    elif active_idx == 1:\n",
    "        pheno_x_female_inactivation += hap_x2_female * effect_size\n",
    "\n",
    "pheno_x_female_inactivation = pheno_x_female_inactivation / n_cells"
   ]
  },
  {
   "cell_type": "code",
   "execution_count": 9,
   "metadata": {},
   "outputs": [
    {
     "name": "stdout",
     "output_type": "stream",
     "text": [
      "Phenotypic variance by male = 0.00175\n",
      "Phenotypic variance by female(no inactivation) = 0.00344\n",
      "Phenotypic variance by female(random inactivation) = 0.00086\n"
     ]
    }
   ],
   "source": [
    "print(\"Phenotypic variance by male = {:.5f}\".format(np.var(pheno_x_male)))\n",
    "print(\"Phenotypic variance by female(no inactivation) = {:.5f}\".format(np.var(pheno_x_female_noInactivation)))\n",
    "print(\"Phenotypic variance by female(random inactivation) = {:.5f}\".format(np.var(pheno_x_female_inactivation)))"
   ]
  },
  {
   "cell_type": "markdown",
   "metadata": {},
   "source": [
    "# 2. Genotype matrix"
   ]
  },
  {
   "cell_type": "code",
   "execution_count": 10,
   "metadata": {},
   "outputs": [],
   "source": [
    "n_sample = 2000\n",
    "n_snp = {\"autosome\":2000,\n",
    "         \"chrX\":2000}\n",
    "var_dict = {\"autosome\":0.5,\n",
    "            \"chrX\":0.1}\n",
    "maf_dict = {\"autosome\":np.random.uniform(low=0.05, high=0.95, size=n_snp[\"autosome\"]),\n",
    "            \"chrX\":np.random.uniform(low=0.05, high=0.95, size=n_snp[\"chrX\"])}\n",
    "n_cells = 1000"
   ]
  },
  {
   "cell_type": "code",
   "execution_count": 11,
   "metadata": {},
   "outputs": [],
   "source": [
    "# effect size\n",
    "effect_dict = {}\n",
    "for chr_type in [\"autosome\", \"chrX\"]:\n",
    "    per_snp_var = var_dict[chr_type] / n_snp[chr_type]\n",
    "    effect_dict[chr_type] = np.random.normal(loc=0.0, scale=np.sqrt(per_snp_var), size=n_snp[chr_type])"
   ]
  },
  {
   "cell_type": "code",
   "execution_count": 12,
   "metadata": {},
   "outputs": [
    {
     "name": "stdout",
     "output_type": "stream",
     "text": [
      "Phenotypic variance by Autosome = 0.18213\n",
      "Phenotypic variance by chrX = 0.01807\n"
     ]
    }
   ],
   "source": [
    "# expectation\n",
    "pAutosome = maf_dict[\"autosome\"]\n",
    "varAutosome = np.sum(2 * pAutosome * (1 - pAutosome) * var_dict[\"autosome\"]/ n_snp[\"autosome\"])\n",
    "pChrX = maf_dict[\"chrX\"]\n",
    "varChrX = np.sum(pChrX * (1 - pChrX) * var_dict[\"chrX\"]/ n_snp[\"chrX\"])\n",
    "print(\"Phenotypic variance by Autosome = {:.5f}\".format(varAutosome))\n",
    "print(\"Phenotypic variance by chrX = {:.5f}\".format(varChrX))"
   ]
  },
  {
   "cell_type": "code",
   "execution_count": 13,
   "metadata": {},
   "outputs": [],
   "source": [
    "# generate haplotype\n",
    "haplotypeMale = {}\n",
    "haplotypeFemale = {}\n",
    "\n",
    "for chr_type in [\"autosome\", \"chrX\"]:\n",
    "    hap1Male = np.random.binomial(n=1, p=maf_dict[chr_type], size=(n_sample, n_snp[chr_type]))\n",
    "    if chr_type == \"chrX\":\n",
    "        hap2Male = np.zeros((n_sample, n_snp[chr_type]))\n",
    "    else:\n",
    "        hap2Male = np.random.binomial(n=1, p=maf_dict[chr_type], size=(n_sample, n_snp[chr_type]))\n",
    "    haplotypeMale[chr_type] = [hap1Male, hap2Male]\n",
    "\n",
    "    hap1Female = np.random.binomial(n=1, p=maf_dict[chr_type], size=(n_sample, n_snp[chr_type]))\n",
    "    hap2Female = np.random.binomial(n=1, p=maf_dict[chr_type], size=(n_sample, n_snp[chr_type]))\n",
    "    haplotypeFemale[chr_type] = [hap1Female, hap2Female]"
   ]
  },
  {
   "cell_type": "code",
   "execution_count": 14,
   "metadata": {},
   "outputs": [],
   "source": [
    "# phenotype - male\n",
    "phenoMale = {}\n",
    "for chr_type in [\"autosome\", \"chrX\"]:\n",
    "    genoMale = np.sum(haplotypeMale[chr_type], axis=0)\n",
    "    phenoMale[chr_type] = np.dot(genoMale, effect_dict[chr_type])\n",
    "\n",
    "# phenotype - female, no inactivation\n",
    "phenoFemaleNoInactivation = {}\n",
    "for chr_type in [\"autosome\", \"chrX\"]:\n",
    "    genoFemale = np.sum(haplotypeFemale[chr_type], axis=0)\n",
    "    phenoFemaleNoInactivation[chr_type] = np.dot(genoFemale, effect_dict[chr_type])\n",
    "\n",
    "# phenotype - female, inactivation\n",
    "phenoFemaleInactivation = {}\n",
    "\n",
    "for chr_type in [\"autosome\", \"chrX\"]:\n",
    "    if chr_type == \"autosome\":\n",
    "        genoFemale = np.sum(haplotypeFemale[\"autosome\"], axis=0)\n",
    "        phenoFemaleInactivation[\"autosome\"] = np.dot(genoFemale, effect_dict[\"autosome\"])\n",
    "    elif chr_type == \"chrX\":\n",
    "        phenoByX = np.zeros(n_sample)\n",
    "        for si in range(n_sample):\n",
    "            tmpHap1 = haplotypeFemale[\"chrX\"][0][si, :]\n",
    "            tmpHap2 = haplotypeFemale[\"chrX\"][1][si, :]\n",
    "            \n",
    "            numCellactiveHap1 = np.sum(np.random.binomial(n=1, p=0.5, size=n_cells))\n",
    "            numCellactiveHap2 = 1 - numCellactiveHap1\n",
    "\n",
    "            phenoByactiveHap1 = np.dot(tmpHap1, effect_dict[\"chrX\"])\n",
    "            phenoByactiveHap2 = np.dot(tmpHap2, effect_dict[\"chrX\"])\n",
    "\n",
    "            tmpPheno = (numCellactiveHap1 * phenoByactiveHap1 + numCellactiveHap2 * phenoByactiveHap2) / n_cells\n",
    "\n",
    "            phenoByX[si] = tmpPheno\n",
    "\n",
    "        phenoFemaleInactivation[\"chrX\"] = phenoByX"
   ]
  },
  {
   "cell_type": "code",
   "execution_count": 15,
   "metadata": {},
   "outputs": [
    {
     "name": "stdout",
     "output_type": "stream",
     "text": [
      "[autosome]\n",
      "Phenotypic variance by male = 0.17419\n",
      "Phenotypic variance by female(no inactivation) = 0.19060\n",
      "Phenotypic variance by female(random inactivation) = 0.19060\n",
      "[chrX]\n",
      "Phenotypic variance by male = 0.01766\n",
      "Phenotypic variance by female(no inactivation) = 0.03600\n",
      "Phenotypic variance by female(random inactivation) = 0.00939\n"
     ]
    }
   ],
   "source": [
    "for chr_type in [\"autosome\", \"chrX\"]:\n",
    "    print(\"[{}]\".format(chr_type))\n",
    "    print(\"Phenotypic variance by male = {:.5f}\".format(np.var(phenoMale[chr_type])))\n",
    "    print(\"Phenotypic variance by female(no inactivation) = {:.5f}\".format(np.var(phenoFemaleNoInactivation[chr_type])))\n",
    "    print(\"Phenotypic variance by female(random inactivation) = {:.5f}\".format(np.var(phenoFemaleInactivation[chr_type])))"
   ]
  },
  {
   "cell_type": "code",
   "execution_count": null,
   "metadata": {},
   "outputs": [],
   "source": []
  }
 ],
 "metadata": {
  "kernelspec": {
   "display_name": "base",
   "language": "python",
   "name": "python3"
  },
  "language_info": {
   "codemirror_mode": {
    "name": "ipython",
    "version": 3
   },
   "file_extension": ".py",
   "mimetype": "text/x-python",
   "name": "python",
   "nbconvert_exporter": "python",
   "pygments_lexer": "ipython3",
   "version": "3.9.13"
  },
  "orig_nbformat": 4,
  "vscode": {
   "interpreter": {
    "hash": "ee42ca6584edca6b83016c3dcc3a993fd29e771f2046ed19a119740f82f334c7"
   }
  }
 },
 "nbformat": 4,
 "nbformat_minor": 2
}
